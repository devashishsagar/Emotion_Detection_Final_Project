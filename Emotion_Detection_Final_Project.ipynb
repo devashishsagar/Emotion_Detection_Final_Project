{
  "nbformat": 4,
  "nbformat_minor": 0,
  "metadata": {
    "colab": {
      "provenance": [],
      "gpuType": "T4",
      "authorship_tag": "ABX9TyN83Q4XRWOnIEbBTyfuoD7s",
      "include_colab_link": true
    },
    "kernelspec": {
      "name": "python3",
      "display_name": "Python 3"
    },
    "language_info": {
      "name": "python"
    },
    "accelerator": "GPU"
  },
  "cells": [
    {
      "cell_type": "markdown",
      "metadata": {
        "id": "view-in-github",
        "colab_type": "text"
      },
      "source": [
        "<a href=\"https://colab.research.google.com/github/devashishsagar/Emotion_Detection_Final_Project/blob/main/Emotion_Detection_Final_Project.ipynb\" target=\"_parent\"><img src=\"https://colab.research.google.com/assets/colab-badge.svg\" alt=\"Open In Colab\"/></a>"
      ]
    },
    {
      "cell_type": "markdown",
      "source": [
        "#Applied Data Science Machine Learning & Edge AI\n",
        "    (By E&ICT Academy IIT Guwahati: The Iot Academy)\n"
      ],
      "metadata": {
        "id": "mr49wNJXlMhH"
      }
    },
    {
      "cell_type": "markdown",
      "source": [
        "#This Code is for building and training a deep learning model for **EMOTION DETECTION** using the FER (Facial Expression Recognition) dataset.\n",
        "\n",
        "    (By Devashish Sagar)"
      ],
      "metadata": {
        "id": "8OUT4AODTfMZ"
      }
    },
    {
      "cell_type": "markdown",
      "source": [
        "#Package Installation:\n",
        "\n",
        "First, it installs the necessary Python packages tensorflow and opencv-python-headless using pip. These packages are essential for working with deep learning and image processing."
      ],
      "metadata": {
        "id": "k7TufK0KTw2B"
      }
    },
    {
      "cell_type": "code",
      "source": [
        "# Install the required packages\n",
        "!pip install tensorflow opencv-python-headless\n",
        "!pip install tensorflow\n",
        "!pip install numpy pandas matplotlib"
      ],
      "metadata": {
        "colab": {
          "base_uri": "https://localhost:8080/",
          "height": 0
        },
        "id": "57w3TAbQV234",
        "outputId": "173c4c63-1459-4228-d266-c60a61a11a8c"
      },
      "execution_count": 1,
      "outputs": [
        {
          "output_type": "stream",
          "name": "stdout",
          "text": [
            "Requirement already satisfied: tensorflow in /usr/local/lib/python3.10/dist-packages (2.12.0)\n",
            "Requirement already satisfied: opencv-python-headless in /usr/local/lib/python3.10/dist-packages (4.8.0.76)\n",
            "Requirement already satisfied: absl-py>=1.0.0 in /usr/local/lib/python3.10/dist-packages (from tensorflow) (1.4.0)\n",
            "Requirement already satisfied: astunparse>=1.6.0 in /usr/local/lib/python3.10/dist-packages (from tensorflow) (1.6.3)\n",
            "Requirement already satisfied: flatbuffers>=2.0 in /usr/local/lib/python3.10/dist-packages (from tensorflow) (23.5.26)\n",
            "Requirement already satisfied: gast<=0.4.0,>=0.2.1 in /usr/local/lib/python3.10/dist-packages (from tensorflow) (0.4.0)\n",
            "Requirement already satisfied: google-pasta>=0.1.1 in /usr/local/lib/python3.10/dist-packages (from tensorflow) (0.2.0)\n",
            "Requirement already satisfied: grpcio<2.0,>=1.24.3 in /usr/local/lib/python3.10/dist-packages (from tensorflow) (1.57.0)\n",
            "Requirement already satisfied: h5py>=2.9.0 in /usr/local/lib/python3.10/dist-packages (from tensorflow) (3.9.0)\n",
            "Requirement already satisfied: jax>=0.3.15 in /usr/local/lib/python3.10/dist-packages (from tensorflow) (0.4.14)\n",
            "Requirement already satisfied: keras<2.13,>=2.12.0 in /usr/local/lib/python3.10/dist-packages (from tensorflow) (2.12.0)\n",
            "Requirement already satisfied: libclang>=13.0.0 in /usr/local/lib/python3.10/dist-packages (from tensorflow) (16.0.6)\n",
            "Requirement already satisfied: numpy<1.24,>=1.22 in /usr/local/lib/python3.10/dist-packages (from tensorflow) (1.23.5)\n",
            "Requirement already satisfied: opt-einsum>=2.3.2 in /usr/local/lib/python3.10/dist-packages (from tensorflow) (3.3.0)\n",
            "Requirement already satisfied: packaging in /usr/local/lib/python3.10/dist-packages (from tensorflow) (23.1)\n",
            "Requirement already satisfied: protobuf!=4.21.0,!=4.21.1,!=4.21.2,!=4.21.3,!=4.21.4,!=4.21.5,<5.0.0dev,>=3.20.3 in /usr/local/lib/python3.10/dist-packages (from tensorflow) (3.20.3)\n",
            "Requirement already satisfied: setuptools in /usr/local/lib/python3.10/dist-packages (from tensorflow) (67.7.2)\n",
            "Requirement already satisfied: six>=1.12.0 in /usr/local/lib/python3.10/dist-packages (from tensorflow) (1.16.0)\n",
            "Requirement already satisfied: tensorboard<2.13,>=2.12 in /usr/local/lib/python3.10/dist-packages (from tensorflow) (2.12.3)\n",
            "Requirement already satisfied: tensorflow-estimator<2.13,>=2.12.0 in /usr/local/lib/python3.10/dist-packages (from tensorflow) (2.12.0)\n",
            "Requirement already satisfied: termcolor>=1.1.0 in /usr/local/lib/python3.10/dist-packages (from tensorflow) (2.3.0)\n",
            "Requirement already satisfied: typing-extensions>=3.6.6 in /usr/local/lib/python3.10/dist-packages (from tensorflow) (4.7.1)\n",
            "Requirement already satisfied: wrapt<1.15,>=1.11.0 in /usr/local/lib/python3.10/dist-packages (from tensorflow) (1.14.1)\n",
            "Requirement already satisfied: tensorflow-io-gcs-filesystem>=0.23.1 in /usr/local/lib/python3.10/dist-packages (from tensorflow) (0.33.0)\n",
            "Requirement already satisfied: wheel<1.0,>=0.23.0 in /usr/local/lib/python3.10/dist-packages (from astunparse>=1.6.0->tensorflow) (0.41.2)\n",
            "Requirement already satisfied: ml-dtypes>=0.2.0 in /usr/local/lib/python3.10/dist-packages (from jax>=0.3.15->tensorflow) (0.2.0)\n",
            "Requirement already satisfied: scipy>=1.7 in /usr/local/lib/python3.10/dist-packages (from jax>=0.3.15->tensorflow) (1.10.1)\n",
            "Requirement already satisfied: google-auth<3,>=1.6.3 in /usr/local/lib/python3.10/dist-packages (from tensorboard<2.13,>=2.12->tensorflow) (2.17.3)\n",
            "Requirement already satisfied: google-auth-oauthlib<1.1,>=0.5 in /usr/local/lib/python3.10/dist-packages (from tensorboard<2.13,>=2.12->tensorflow) (1.0.0)\n",
            "Requirement already satisfied: markdown>=2.6.8 in /usr/local/lib/python3.10/dist-packages (from tensorboard<2.13,>=2.12->tensorflow) (3.4.4)\n",
            "Requirement already satisfied: requests<3,>=2.21.0 in /usr/local/lib/python3.10/dist-packages (from tensorboard<2.13,>=2.12->tensorflow) (2.31.0)\n",
            "Requirement already satisfied: tensorboard-data-server<0.8.0,>=0.7.0 in /usr/local/lib/python3.10/dist-packages (from tensorboard<2.13,>=2.12->tensorflow) (0.7.1)\n",
            "Requirement already satisfied: werkzeug>=1.0.1 in /usr/local/lib/python3.10/dist-packages (from tensorboard<2.13,>=2.12->tensorflow) (2.3.7)\n",
            "Requirement already satisfied: cachetools<6.0,>=2.0.0 in /usr/local/lib/python3.10/dist-packages (from google-auth<3,>=1.6.3->tensorboard<2.13,>=2.12->tensorflow) (5.3.1)\n",
            "Requirement already satisfied: pyasn1-modules>=0.2.1 in /usr/local/lib/python3.10/dist-packages (from google-auth<3,>=1.6.3->tensorboard<2.13,>=2.12->tensorflow) (0.3.0)\n",
            "Requirement already satisfied: rsa<5,>=3.1.4 in /usr/local/lib/python3.10/dist-packages (from google-auth<3,>=1.6.3->tensorboard<2.13,>=2.12->tensorflow) (4.9)\n",
            "Requirement already satisfied: requests-oauthlib>=0.7.0 in /usr/local/lib/python3.10/dist-packages (from google-auth-oauthlib<1.1,>=0.5->tensorboard<2.13,>=2.12->tensorflow) (1.3.1)\n",
            "Requirement already satisfied: charset-normalizer<4,>=2 in /usr/local/lib/python3.10/dist-packages (from requests<3,>=2.21.0->tensorboard<2.13,>=2.12->tensorflow) (3.2.0)\n",
            "Requirement already satisfied: idna<4,>=2.5 in /usr/local/lib/python3.10/dist-packages (from requests<3,>=2.21.0->tensorboard<2.13,>=2.12->tensorflow) (3.4)\n",
            "Requirement already satisfied: urllib3<3,>=1.21.1 in /usr/local/lib/python3.10/dist-packages (from requests<3,>=2.21.0->tensorboard<2.13,>=2.12->tensorflow) (2.0.4)\n",
            "Requirement already satisfied: certifi>=2017.4.17 in /usr/local/lib/python3.10/dist-packages (from requests<3,>=2.21.0->tensorboard<2.13,>=2.12->tensorflow) (2023.7.22)\n",
            "Requirement already satisfied: MarkupSafe>=2.1.1 in /usr/local/lib/python3.10/dist-packages (from werkzeug>=1.0.1->tensorboard<2.13,>=2.12->tensorflow) (2.1.3)\n",
            "Requirement already satisfied: pyasn1<0.6.0,>=0.4.6 in /usr/local/lib/python3.10/dist-packages (from pyasn1-modules>=0.2.1->google-auth<3,>=1.6.3->tensorboard<2.13,>=2.12->tensorflow) (0.5.0)\n",
            "Requirement already satisfied: oauthlib>=3.0.0 in /usr/local/lib/python3.10/dist-packages (from requests-oauthlib>=0.7.0->google-auth-oauthlib<1.1,>=0.5->tensorboard<2.13,>=2.12->tensorflow) (3.2.2)\n",
            "Requirement already satisfied: tensorflow in /usr/local/lib/python3.10/dist-packages (2.12.0)\n",
            "Requirement already satisfied: absl-py>=1.0.0 in /usr/local/lib/python3.10/dist-packages (from tensorflow) (1.4.0)\n",
            "Requirement already satisfied: astunparse>=1.6.0 in /usr/local/lib/python3.10/dist-packages (from tensorflow) (1.6.3)\n",
            "Requirement already satisfied: flatbuffers>=2.0 in /usr/local/lib/python3.10/dist-packages (from tensorflow) (23.5.26)\n",
            "Requirement already satisfied: gast<=0.4.0,>=0.2.1 in /usr/local/lib/python3.10/dist-packages (from tensorflow) (0.4.0)\n",
            "Requirement already satisfied: google-pasta>=0.1.1 in /usr/local/lib/python3.10/dist-packages (from tensorflow) (0.2.0)\n",
            "Requirement already satisfied: grpcio<2.0,>=1.24.3 in /usr/local/lib/python3.10/dist-packages (from tensorflow) (1.57.0)\n",
            "Requirement already satisfied: h5py>=2.9.0 in /usr/local/lib/python3.10/dist-packages (from tensorflow) (3.9.0)\n",
            "Requirement already satisfied: jax>=0.3.15 in /usr/local/lib/python3.10/dist-packages (from tensorflow) (0.4.14)\n",
            "Requirement already satisfied: keras<2.13,>=2.12.0 in /usr/local/lib/python3.10/dist-packages (from tensorflow) (2.12.0)\n",
            "Requirement already satisfied: libclang>=13.0.0 in /usr/local/lib/python3.10/dist-packages (from tensorflow) (16.0.6)\n",
            "Requirement already satisfied: numpy<1.24,>=1.22 in /usr/local/lib/python3.10/dist-packages (from tensorflow) (1.23.5)\n",
            "Requirement already satisfied: opt-einsum>=2.3.2 in /usr/local/lib/python3.10/dist-packages (from tensorflow) (3.3.0)\n",
            "Requirement already satisfied: packaging in /usr/local/lib/python3.10/dist-packages (from tensorflow) (23.1)\n",
            "Requirement already satisfied: protobuf!=4.21.0,!=4.21.1,!=4.21.2,!=4.21.3,!=4.21.4,!=4.21.5,<5.0.0dev,>=3.20.3 in /usr/local/lib/python3.10/dist-packages (from tensorflow) (3.20.3)\n",
            "Requirement already satisfied: setuptools in /usr/local/lib/python3.10/dist-packages (from tensorflow) (67.7.2)\n",
            "Requirement already satisfied: six>=1.12.0 in /usr/local/lib/python3.10/dist-packages (from tensorflow) (1.16.0)\n",
            "Requirement already satisfied: tensorboard<2.13,>=2.12 in /usr/local/lib/python3.10/dist-packages (from tensorflow) (2.12.3)\n",
            "Requirement already satisfied: tensorflow-estimator<2.13,>=2.12.0 in /usr/local/lib/python3.10/dist-packages (from tensorflow) (2.12.0)\n",
            "Requirement already satisfied: termcolor>=1.1.0 in /usr/local/lib/python3.10/dist-packages (from tensorflow) (2.3.0)\n",
            "Requirement already satisfied: typing-extensions>=3.6.6 in /usr/local/lib/python3.10/dist-packages (from tensorflow) (4.7.1)\n",
            "Requirement already satisfied: wrapt<1.15,>=1.11.0 in /usr/local/lib/python3.10/dist-packages (from tensorflow) (1.14.1)\n",
            "Requirement already satisfied: tensorflow-io-gcs-filesystem>=0.23.1 in /usr/local/lib/python3.10/dist-packages (from tensorflow) (0.33.0)\n",
            "Requirement already satisfied: wheel<1.0,>=0.23.0 in /usr/local/lib/python3.10/dist-packages (from astunparse>=1.6.0->tensorflow) (0.41.2)\n",
            "Requirement already satisfied: ml-dtypes>=0.2.0 in /usr/local/lib/python3.10/dist-packages (from jax>=0.3.15->tensorflow) (0.2.0)\n",
            "Requirement already satisfied: scipy>=1.7 in /usr/local/lib/python3.10/dist-packages (from jax>=0.3.15->tensorflow) (1.10.1)\n",
            "Requirement already satisfied: google-auth<3,>=1.6.3 in /usr/local/lib/python3.10/dist-packages (from tensorboard<2.13,>=2.12->tensorflow) (2.17.3)\n",
            "Requirement already satisfied: google-auth-oauthlib<1.1,>=0.5 in /usr/local/lib/python3.10/dist-packages (from tensorboard<2.13,>=2.12->tensorflow) (1.0.0)\n",
            "Requirement already satisfied: markdown>=2.6.8 in /usr/local/lib/python3.10/dist-packages (from tensorboard<2.13,>=2.12->tensorflow) (3.4.4)\n",
            "Requirement already satisfied: requests<3,>=2.21.0 in /usr/local/lib/python3.10/dist-packages (from tensorboard<2.13,>=2.12->tensorflow) (2.31.0)\n",
            "Requirement already satisfied: tensorboard-data-server<0.8.0,>=0.7.0 in /usr/local/lib/python3.10/dist-packages (from tensorboard<2.13,>=2.12->tensorflow) (0.7.1)\n",
            "Requirement already satisfied: werkzeug>=1.0.1 in /usr/local/lib/python3.10/dist-packages (from tensorboard<2.13,>=2.12->tensorflow) (2.3.7)\n",
            "Requirement already satisfied: cachetools<6.0,>=2.0.0 in /usr/local/lib/python3.10/dist-packages (from google-auth<3,>=1.6.3->tensorboard<2.13,>=2.12->tensorflow) (5.3.1)\n",
            "Requirement already satisfied: pyasn1-modules>=0.2.1 in /usr/local/lib/python3.10/dist-packages (from google-auth<3,>=1.6.3->tensorboard<2.13,>=2.12->tensorflow) (0.3.0)\n",
            "Requirement already satisfied: rsa<5,>=3.1.4 in /usr/local/lib/python3.10/dist-packages (from google-auth<3,>=1.6.3->tensorboard<2.13,>=2.12->tensorflow) (4.9)\n",
            "Requirement already satisfied: requests-oauthlib>=0.7.0 in /usr/local/lib/python3.10/dist-packages (from google-auth-oauthlib<1.1,>=0.5->tensorboard<2.13,>=2.12->tensorflow) (1.3.1)\n",
            "Requirement already satisfied: charset-normalizer<4,>=2 in /usr/local/lib/python3.10/dist-packages (from requests<3,>=2.21.0->tensorboard<2.13,>=2.12->tensorflow) (3.2.0)\n",
            "Requirement already satisfied: idna<4,>=2.5 in /usr/local/lib/python3.10/dist-packages (from requests<3,>=2.21.0->tensorboard<2.13,>=2.12->tensorflow) (3.4)\n",
            "Requirement already satisfied: urllib3<3,>=1.21.1 in /usr/local/lib/python3.10/dist-packages (from requests<3,>=2.21.0->tensorboard<2.13,>=2.12->tensorflow) (2.0.4)\n",
            "Requirement already satisfied: certifi>=2017.4.17 in /usr/local/lib/python3.10/dist-packages (from requests<3,>=2.21.0->tensorboard<2.13,>=2.12->tensorflow) (2023.7.22)\n",
            "Requirement already satisfied: MarkupSafe>=2.1.1 in /usr/local/lib/python3.10/dist-packages (from werkzeug>=1.0.1->tensorboard<2.13,>=2.12->tensorflow) (2.1.3)\n",
            "Requirement already satisfied: pyasn1<0.6.0,>=0.4.6 in /usr/local/lib/python3.10/dist-packages (from pyasn1-modules>=0.2.1->google-auth<3,>=1.6.3->tensorboard<2.13,>=2.12->tensorflow) (0.5.0)\n",
            "Requirement already satisfied: oauthlib>=3.0.0 in /usr/local/lib/python3.10/dist-packages (from requests-oauthlib>=0.7.0->google-auth-oauthlib<1.1,>=0.5->tensorboard<2.13,>=2.12->tensorflow) (3.2.2)\n",
            "Requirement already satisfied: numpy in /usr/local/lib/python3.10/dist-packages (1.23.5)\n",
            "Requirement already satisfied: pandas in /usr/local/lib/python3.10/dist-packages (1.5.3)\n",
            "Requirement already satisfied: matplotlib in /usr/local/lib/python3.10/dist-packages (3.7.1)\n",
            "Requirement already satisfied: python-dateutil>=2.8.1 in /usr/local/lib/python3.10/dist-packages (from pandas) (2.8.2)\n",
            "Requirement already satisfied: pytz>=2020.1 in /usr/local/lib/python3.10/dist-packages (from pandas) (2023.3)\n",
            "Requirement already satisfied: contourpy>=1.0.1 in /usr/local/lib/python3.10/dist-packages (from matplotlib) (1.1.0)\n",
            "Requirement already satisfied: cycler>=0.10 in /usr/local/lib/python3.10/dist-packages (from matplotlib) (0.11.0)\n",
            "Requirement already satisfied: fonttools>=4.22.0 in /usr/local/lib/python3.10/dist-packages (from matplotlib) (4.42.1)\n",
            "Requirement already satisfied: kiwisolver>=1.0.1 in /usr/local/lib/python3.10/dist-packages (from matplotlib) (1.4.4)\n",
            "Requirement already satisfied: packaging>=20.0 in /usr/local/lib/python3.10/dist-packages (from matplotlib) (23.1)\n",
            "Requirement already satisfied: pillow>=6.2.0 in /usr/local/lib/python3.10/dist-packages (from matplotlib) (9.4.0)\n",
            "Requirement already satisfied: pyparsing>=2.3.1 in /usr/local/lib/python3.10/dist-packages (from matplotlib) (3.1.1)\n",
            "Requirement already satisfied: six>=1.5 in /usr/local/lib/python3.10/dist-packages (from python-dateutil>=2.8.1->pandas) (1.16.0)\n"
          ]
        }
      ]
    },
    {
      "cell_type": "markdown",
      "source": [
        "#Import Libraries:\n",
        "\n",
        "The code imports various Python libraries and modules required for different tasks within the script. These include libraries for data handling (numpy, pandas), data visualization (matplotlib), and deep learning (TensorFlow and its components)."
      ],
      "metadata": {
        "id": "6IcIJ-u8TwyC"
      }
    },
    {
      "cell_type": "code",
      "source": [
        "# Import necessary libraries\n",
        "import numpy as np\n",
        "import pandas as pd\n",
        "import os\n",
        "import matplotlib.pyplot as plt\n",
        "import tensorflow as tf\n",
        "from tensorflow.keras.preprocessing.image import ImageDataGenerator\n",
        "from tensorflow.keras.models import Sequential\n",
        "from tensorflow.keras.layers import Conv2D, MaxPool2D, Flatten, Dense, Dropout, BatchNormalization\n",
        "from tensorflow.keras.applications import VGG16, InceptionResNetV2\n",
        "from tensorflow.keras.optimizers import Adam\n",
        "from tensorflow.keras import regularizers\n",
        "import zipfile\n",
        "import pathlib"
      ],
      "metadata": {
        "id": "VmCySHVLV6Eq"
      },
      "execution_count": 2,
      "outputs": []
    },
    {
      "cell_type": "markdown",
      "source": [
        "#Kaggle API Setup:\n",
        "\n",
        "The code ensures that the Kaggle API key is available. It creates a directory .kaggle in your home directory (if it doesn't already exist) and copies the kaggle.json file to that directory. This key is used later to download the dataset from Kaggle."
      ],
      "metadata": {
        "id": "5osgao_mTwvu"
      }
    },
    {
      "cell_type": "code",
      "source": [
        "# Ensure Kaggle API key is available\n",
        "!mkdir -p ~/.kaggle\n",
        "!cp kaggle.json ~/.kaggle/"
      ],
      "metadata": {
        "id": "dNPIoxWAV-ri"
      },
      "execution_count": 6,
      "outputs": []
    },
    {
      "cell_type": "markdown",
      "source": [
        "#Download and Unzip Dataset:\n",
        "\n",
        "It downloads a dataset **from Kaggle using the Kaggle API**. The dataset is specified by the dataset name emotion-detection-fer. The dataset is downloaded as a zip file and then extracted into the /content directory."
      ],
      "metadata": {
        "id": "Lgekd5L2TwrQ"
      }
    },
    {
      "cell_type": "code",
      "source": [
        "# Download the dataset from Kaggle\n",
        "!kaggle datasets download -d ananthu017/emotion-detection-fer\n",
        "\n",
        "\n",
        "# Unzip the dataset\n",
        "zip_ref = zipfile.ZipFile('/content/emotion-detection-fer.zip', 'r')\n",
        "zip_ref.extractall('/content')\n",
        "zip_ref.close()"
      ],
      "metadata": {
        "colab": {
          "base_uri": "https://localhost:8080/",
          "height": 0
        },
        "id": "1ooX11Y0WCpg",
        "outputId": "752b1f24-4d75-4092-ec6a-c90692b04a59"
      },
      "execution_count": 7,
      "outputs": [
        {
          "output_type": "stream",
          "name": "stdout",
          "text": [
            "Warning: Your Kaggle API key is readable by other users on this system! To fix this, you can run 'chmod 600 /root/.kaggle/kaggle.json'\n",
            "Downloading emotion-detection-fer.zip to /content\n",
            " 87% 57.0M/65.2M [00:00<00:00, 90.6MB/s]\n",
            "100% 65.2M/65.2M [00:00<00:00, 83.2MB/s]\n"
          ]
        }
      ]
    },
    {
      "cell_type": "markdown",
      "source": [
        "#Set up Data Directories:\n",
        "\n",
        "Two data directories are defined: **train_dir** and **test_dir**, which point to the training and testing data, respectively.\n",
        "img_size is set to 48, which is the size to which images will be resized for processing."
      ],
      "metadata": {
        "id": "GJHGX8VsTwom"
      }
    },
    {
      "cell_type": "code",
      "source": [
        "# Set up data directories\n",
        "train_dir = pathlib.Path(\"/content/train\")\n",
        "test_dir = pathlib.Path(\"/content/test\")\n",
        "\n",
        "img_size = 48"
      ],
      "metadata": {
        "id": "8jDxqK1SWLwP"
      },
      "execution_count": 8,
      "outputs": []
    },
    {
      "cell_type": "markdown",
      "source": [
        "#Data Augmentation:\n",
        "\n",
        "**Data augmentation** is a technique to artificially increase the diversity of the training dataset by applying various transformations to the existing images. It helps improve the model's generalization.\n",
        "\n",
        "**ImageDataGenerator** objects are created for both training and validation datasets. These generators will apply data augmentation to the images.\n",
        "\n",
        "**Augmentation techniques** include shifting the image, horizontal flipping, and rescaling pixel values to a range between 0 and 1.\n"
      ],
      "metadata": {
        "id": "kIyFxy8_TwlL"
      }
    },
    {
      "cell_type": "code",
      "source": [
        "# Data Augmentation\n",
        "train_datagen = ImageDataGenerator(\n",
        "    width_shift_range=0.1,\n",
        "    height_shift_range=0.1,\n",
        "    horizontal_flip=True,\n",
        "    rescale=1./255,\n",
        "    validation_split=0.2\n",
        ")\n",
        "\n",
        "validation_datagen = ImageDataGenerator(\n",
        "    rescale=1./255,\n",
        "    validation_split=0.2\n",
        ")"
      ],
      "metadata": {
        "id": "gkbYtmAYWQLv"
      },
      "execution_count": 9,
      "outputs": []
    },
    {
      "cell_type": "markdown",
      "source": [
        "#Data Generators:\n",
        "\n",
        "**train_generator** and **validation_generator** are created using the data generators defined earlier. These generators will provide batches of augmented images and their corresponding labels during model training."
      ],
      "metadata": {
        "id": "ELhekXvgTwkH"
      }
    },
    {
      "cell_type": "code",
      "source": [
        "# Applying data augmentation to the images as we read them from their respective directories\n",
        "batch_size = 64\n",
        "color_mode = \"grayscale\"\n",
        "class_mode = \"categorical\"\n",
        "\n",
        "train_generator = train_datagen.flow_from_directory(\n",
        "    directory=train_dir,\n",
        "    target_size=(img_size, img_size),\n",
        "    batch_size=batch_size,\n",
        "    color_mode=color_mode,\n",
        "    class_mode=class_mode,\n",
        "    subset=\"training\"\n",
        ")\n",
        "\n",
        "validation_generator = validation_datagen.flow_from_directory(\n",
        "    directory=test_dir,\n",
        "    target_size=(img_size, img_size),\n",
        "    batch_size=batch_size,\n",
        "    color_mode=color_mode,\n",
        "    class_mode=class_mode,\n",
        "    subset=\"validation\"\n",
        ")"
      ],
      "metadata": {
        "colab": {
          "base_uri": "https://localhost:8080/",
          "height": 0
        },
        "id": "siwRMblQWoCF",
        "outputId": "4c5eeec9-2b96-432b-ec1b-1488d7947438"
      },
      "execution_count": 10,
      "outputs": [
        {
          "output_type": "stream",
          "name": "stdout",
          "text": [
            "Found 22968 images belonging to 7 classes.\n",
            "Found 1432 images belonging to 7 classes.\n"
          ]
        }
      ]
    },
    {
      "cell_type": "markdown",
      "source": [
        "#Model Architecture:\n",
        "\n",
        "A **convolutional neural network (CNN)** model is defined using the Sequential API from TensorFlow/Keras.\n",
        "The model consists of several layers of convolution, pooling, batch normalization, dropout, and fully connected layers.\n",
        "These layers are used to extract features from the input images and make predictions about the emotions depicted in the images.\n",
        "The final layer has 7 units with softmax activation, which corresponds to 7 different emotion classes."
      ],
      "metadata": {
        "id": "lRXCmTjITwfP"
      }
    },
    {
      "cell_type": "code",
      "source": [
        "# Modeling\n",
        "model = Sequential()\n",
        "model.add(Conv2D(32, kernel_size=(3, 3), padding='same', activation='relu', input_shape=(48, 48, 1)))\n",
        "model.add(Conv2D(64, (3, 3), padding='same', activation='relu'))\n",
        "model.add(BatchNormalization())\n",
        "model.add(MaxPool2D(pool_size=(2, 2)))\n",
        "model.add(Dropout(0.25))\n",
        "\n",
        "model.add(Conv2D(128, (5, 5), padding='same', activation='relu'))\n",
        "model.add(BatchNormalization())\n",
        "model.add(MaxPool2D(pool_size=(2, 2)))\n",
        "model.add(Dropout(0.25))\n",
        "\n",
        "model.add(Conv2D(512, (3, 3), padding='same', activation='relu', kernel_regularizer=regularizers.l2(0.01)))\n",
        "model.add(BatchNormalization())\n",
        "model.add(MaxPool2D(pool_size=(2, 2)))\n",
        "model.add(Dropout(0.25))\n",
        "\n",
        "model.add(Conv2D(512, (3, 3), padding='same', activation='relu', kernel_regularizer=regularizers.l2(0.01)))\n",
        "model.add(BatchNormalization())\n",
        "model.add(MaxPool2D(pool_size=(2, 2)))\n",
        "model.add(Dropout(0.25))\n",
        "\n",
        "model.add(Flatten())\n",
        "model.add(Dense(256, activation='relu'))\n",
        "model.add(BatchNormalization())\n",
        "model.add(Dropout(0.25))\n",
        "\n",
        "model.add(Dense(512, activation='relu'))\n",
        "model.add(BatchNormalization())\n",
        "model.add(Dropout(0.25))\n",
        "\n",
        "model.add(Dense(7, activation='softmax'))"
      ],
      "metadata": {
        "id": "kvHV2ByWW7rA"
      },
      "execution_count": 11,
      "outputs": []
    },
    {
      "cell_type": "markdown",
      "source": [
        "#Model Compilation:\n",
        "\n",
        "The model is compiled with an **optimizer (Adam)**, loss function (categorical cross-entropy), and evaluation metric (accuracy). This prepares the model for training."
      ],
      "metadata": {
        "id": "_Dugew3VTwdV"
      }
    },
    {
      "cell_type": "code",
      "source": [
        "model.compile(\n",
        "    optimizer=Adam(lr=0.0001),\n",
        "    loss='categorical_crossentropy',\n",
        "    metrics=['accuracy']\n",
        ")"
      ],
      "metadata": {
        "colab": {
          "base_uri": "https://localhost:8080/",
          "height": 0
        },
        "id": "S8bc5DVsaLuI",
        "outputId": "b53a03ba-69a2-4aec-e998-65b4a64e8a4b"
      },
      "execution_count": 12,
      "outputs": [
        {
          "output_type": "stream",
          "name": "stderr",
          "text": [
            "WARNING:absl:`lr` is deprecated in Keras optimizer, please use `learning_rate` or use the legacy optimizer, e.g.,tf.keras.optimizers.legacy.Adam.\n"
          ]
        }
      ]
    },
    {
      "cell_type": "markdown",
      "source": [
        "#Model Training:\n",
        "\n",
        "The model is trained using the fit method. It is trained on the training data (train_generator) and validated on the validation data (validation_generator) for a specified number of epochs (60 in this case)."
      ],
      "metadata": {
        "id": "oJ-NLaDSTwbM"
      }
    },
    {
      "cell_type": "code",
      "source": [
        "# Model Training\n",
        "epochs = 60\n",
        "\n",
        "history = model.fit(\n",
        "    x=train_generator,\n",
        "    epochs=epochs,\n",
        "    validation_data=validation_generator\n",
        ")"
      ],
      "metadata": {
        "colab": {
          "base_uri": "https://localhost:8080/",
          "height": 0
        },
        "id": "SDQLhuDHXLxR",
        "outputId": "7c744ec3-3190-4094-c5ee-1d5d49140e9f"
      },
      "execution_count": 13,
      "outputs": [
        {
          "output_type": "stream",
          "name": "stdout",
          "text": [
            "Epoch 1/60\n",
            "359/359 [==============================] - 51s 89ms/step - loss: 5.3497 - accuracy: 0.2346 - val_loss: 2.8506 - val_accuracy: 0.2647\n",
            "Epoch 2/60\n",
            "359/359 [==============================] - 25s 70ms/step - loss: 2.3998 - accuracy: 0.3402 - val_loss: 2.3616 - val_accuracy: 0.3757\n",
            "Epoch 3/60\n",
            "359/359 [==============================] - 25s 68ms/step - loss: 2.2829 - accuracy: 0.4049 - val_loss: 2.5056 - val_accuracy: 0.3939\n",
            "Epoch 4/60\n",
            "359/359 [==============================] - 25s 69ms/step - loss: 2.2563 - accuracy: 0.4525 - val_loss: 2.1585 - val_accuracy: 0.4609\n",
            "Epoch 5/60\n",
            "359/359 [==============================] - 24s 67ms/step - loss: 2.1727 - accuracy: 0.4797 - val_loss: 2.0979 - val_accuracy: 0.5161\n",
            "Epoch 6/60\n",
            "359/359 [==============================] - 25s 70ms/step - loss: 2.1313 - accuracy: 0.4913 - val_loss: 2.1718 - val_accuracy: 0.4588\n",
            "Epoch 7/60\n",
            "359/359 [==============================] - 25s 69ms/step - loss: 2.1153 - accuracy: 0.4953 - val_loss: 2.0919 - val_accuracy: 0.5154\n",
            "Epoch 8/60\n",
            "359/359 [==============================] - 25s 70ms/step - loss: 2.1290 - accuracy: 0.5061 - val_loss: 2.2843 - val_accuracy: 0.4728\n",
            "Epoch 9/60\n",
            "359/359 [==============================] - 25s 69ms/step - loss: 2.0623 - accuracy: 0.5105 - val_loss: 2.6314 - val_accuracy: 0.3191\n",
            "Epoch 10/60\n",
            "359/359 [==============================] - 25s 69ms/step - loss: 2.0722 - accuracy: 0.5138 - val_loss: 2.0046 - val_accuracy: 0.5084\n",
            "Epoch 11/60\n",
            "359/359 [==============================] - 25s 69ms/step - loss: 2.0159 - accuracy: 0.5172 - val_loss: 2.1137 - val_accuracy: 0.5042\n",
            "Epoch 12/60\n",
            "359/359 [==============================] - 25s 71ms/step - loss: 2.0159 - accuracy: 0.5229 - val_loss: 1.9742 - val_accuracy: 0.5314\n",
            "Epoch 13/60\n",
            "359/359 [==============================] - 25s 69ms/step - loss: 1.9645 - accuracy: 0.5310 - val_loss: 1.8994 - val_accuracy: 0.5203\n",
            "Epoch 14/60\n",
            "359/359 [==============================] - 25s 69ms/step - loss: 1.9933 - accuracy: 0.5365 - val_loss: 2.0640 - val_accuracy: 0.5335\n",
            "Epoch 15/60\n",
            "359/359 [==============================] - 25s 70ms/step - loss: 1.9613 - accuracy: 0.5359 - val_loss: 1.9374 - val_accuracy: 0.5454\n",
            "Epoch 16/60\n",
            "359/359 [==============================] - 25s 70ms/step - loss: 1.8946 - accuracy: 0.5392 - val_loss: 1.7934 - val_accuracy: 0.5419\n",
            "Epoch 17/60\n",
            "359/359 [==============================] - 25s 70ms/step - loss: 1.8114 - accuracy: 0.5448 - val_loss: 2.0598 - val_accuracy: 0.4490\n",
            "Epoch 18/60\n",
            "359/359 [==============================] - 25s 70ms/step - loss: 1.7799 - accuracy: 0.5487 - val_loss: 1.8950 - val_accuracy: 0.5510\n",
            "Epoch 19/60\n",
            "359/359 [==============================] - 25s 69ms/step - loss: 1.8255 - accuracy: 0.5502 - val_loss: 1.8310 - val_accuracy: 0.5342\n",
            "Epoch 20/60\n",
            "359/359 [==============================] - 25s 70ms/step - loss: 1.8085 - accuracy: 0.5543 - val_loss: 1.6553 - val_accuracy: 0.5852\n",
            "Epoch 21/60\n",
            "359/359 [==============================] - 25s 70ms/step - loss: 1.7226 - accuracy: 0.5539 - val_loss: 1.7334 - val_accuracy: 0.5810\n",
            "Epoch 22/60\n",
            "359/359 [==============================] - 25s 70ms/step - loss: 1.7591 - accuracy: 0.5566 - val_loss: 1.6552 - val_accuracy: 0.5859\n",
            "Epoch 23/60\n",
            "359/359 [==============================] - 25s 70ms/step - loss: 1.7995 - accuracy: 0.5558 - val_loss: 1.7826 - val_accuracy: 0.5398\n",
            "Epoch 24/60\n",
            "359/359 [==============================] - 25s 69ms/step - loss: 1.6834 - accuracy: 0.5634 - val_loss: 1.7819 - val_accuracy: 0.5622\n",
            "Epoch 25/60\n",
            "359/359 [==============================] - 25s 70ms/step - loss: 1.7266 - accuracy: 0.5613 - val_loss: 1.5889 - val_accuracy: 0.5831\n",
            "Epoch 26/60\n",
            "359/359 [==============================] - 25s 70ms/step - loss: 1.6081 - accuracy: 0.5687 - val_loss: 1.5042 - val_accuracy: 0.6027\n",
            "Epoch 27/60\n",
            "359/359 [==============================] - 25s 71ms/step - loss: 1.5933 - accuracy: 0.5670 - val_loss: 1.5870 - val_accuracy: 0.5663\n",
            "Epoch 28/60\n",
            "359/359 [==============================] - 25s 71ms/step - loss: 1.6931 - accuracy: 0.5673 - val_loss: 1.7827 - val_accuracy: 0.5635\n",
            "Epoch 29/60\n",
            "359/359 [==============================] - 25s 69ms/step - loss: 1.5970 - accuracy: 0.5703 - val_loss: 1.5561 - val_accuracy: 0.5705\n",
            "Epoch 30/60\n",
            "359/359 [==============================] - 25s 70ms/step - loss: 1.5723 - accuracy: 0.5703 - val_loss: 1.5367 - val_accuracy: 0.5894\n",
            "Epoch 31/60\n",
            "359/359 [==============================] - 25s 70ms/step - loss: 1.5828 - accuracy: 0.5721 - val_loss: 1.6779 - val_accuracy: 0.5475\n",
            "Epoch 32/60\n",
            "359/359 [==============================] - 25s 70ms/step - loss: 1.5517 - accuracy: 0.5747 - val_loss: 1.4983 - val_accuracy: 0.5887\n",
            "Epoch 33/60\n",
            "359/359 [==============================] - 25s 69ms/step - loss: 1.6011 - accuracy: 0.5756 - val_loss: 1.6133 - val_accuracy: 0.5880\n",
            "Epoch 34/60\n",
            "359/359 [==============================] - 25s 69ms/step - loss: 1.5318 - accuracy: 0.5812 - val_loss: 1.5565 - val_accuracy: 0.5754\n",
            "Epoch 35/60\n",
            "359/359 [==============================] - 25s 70ms/step - loss: 1.5361 - accuracy: 0.5794 - val_loss: 1.5500 - val_accuracy: 0.5587\n",
            "Epoch 36/60\n",
            "359/359 [==============================] - 25s 69ms/step - loss: 1.5104 - accuracy: 0.5815 - val_loss: 1.5023 - val_accuracy: 0.5880\n",
            "Epoch 37/60\n",
            "359/359 [==============================] - 24s 68ms/step - loss: 1.5381 - accuracy: 0.5792 - val_loss: 1.4416 - val_accuracy: 0.5992\n",
            "Epoch 38/60\n",
            "359/359 [==============================] - 25s 70ms/step - loss: 1.5264 - accuracy: 0.5863 - val_loss: 1.4681 - val_accuracy: 0.5866\n",
            "Epoch 39/60\n",
            "359/359 [==============================] - 25s 70ms/step - loss: 1.4921 - accuracy: 0.5844 - val_loss: 1.4687 - val_accuracy: 0.5950\n",
            "Epoch 40/60\n",
            "359/359 [==============================] - 25s 70ms/step - loss: 1.5153 - accuracy: 0.5846 - val_loss: 1.4392 - val_accuracy: 0.5978\n",
            "Epoch 41/60\n",
            "359/359 [==============================] - 26s 74ms/step - loss: 1.5085 - accuracy: 0.5878 - val_loss: 1.5409 - val_accuracy: 0.5733\n",
            "Epoch 42/60\n",
            "359/359 [==============================] - 25s 71ms/step - loss: 1.6185 - accuracy: 0.5855 - val_loss: 1.5061 - val_accuracy: 0.5873\n",
            "Epoch 43/60\n",
            "359/359 [==============================] - 26s 72ms/step - loss: 1.4864 - accuracy: 0.5957 - val_loss: 1.5205 - val_accuracy: 0.6027\n",
            "Epoch 44/60\n",
            "359/359 [==============================] - 25s 71ms/step - loss: 1.5358 - accuracy: 0.5874 - val_loss: 1.6260 - val_accuracy: 0.5440\n",
            "Epoch 45/60\n",
            "359/359 [==============================] - 25s 70ms/step - loss: 1.4754 - accuracy: 0.5943 - val_loss: 1.4068 - val_accuracy: 0.5999\n",
            "Epoch 46/60\n",
            "359/359 [==============================] - 25s 71ms/step - loss: 1.4507 - accuracy: 0.5942 - val_loss: 1.4594 - val_accuracy: 0.6054\n",
            "Epoch 47/60\n",
            "359/359 [==============================] - 26s 72ms/step - loss: 1.4321 - accuracy: 0.5988 - val_loss: 1.4356 - val_accuracy: 0.5978\n",
            "Epoch 48/60\n",
            "359/359 [==============================] - 26s 73ms/step - loss: 1.4486 - accuracy: 0.5998 - val_loss: 1.4617 - val_accuracy: 0.6013\n",
            "Epoch 49/60\n",
            "359/359 [==============================] - 27s 75ms/step - loss: 1.4813 - accuracy: 0.5927 - val_loss: 1.4324 - val_accuracy: 0.6061\n",
            "Epoch 50/60\n",
            "359/359 [==============================] - 27s 75ms/step - loss: 1.4414 - accuracy: 0.5969 - val_loss: 1.4061 - val_accuracy: 0.6061\n",
            "Epoch 51/60\n",
            "359/359 [==============================] - 27s 74ms/step - loss: 1.4952 - accuracy: 0.5978 - val_loss: 1.7190 - val_accuracy: 0.6082\n",
            "Epoch 52/60\n",
            "359/359 [==============================] - 26s 73ms/step - loss: 1.5241 - accuracy: 0.5969 - val_loss: 1.4396 - val_accuracy: 0.6110\n",
            "Epoch 53/60\n",
            "359/359 [==============================] - 28s 77ms/step - loss: 1.4306 - accuracy: 0.6042 - val_loss: 1.4444 - val_accuracy: 0.6061\n",
            "Epoch 54/60\n",
            "359/359 [==============================] - 26s 73ms/step - loss: 1.4301 - accuracy: 0.6046 - val_loss: 1.3907 - val_accuracy: 0.6180\n",
            "Epoch 55/60\n",
            "359/359 [==============================] - 26s 72ms/step - loss: 1.4233 - accuracy: 0.6027 - val_loss: 1.3749 - val_accuracy: 0.6180\n",
            "Epoch 56/60\n",
            "359/359 [==============================] - 26s 73ms/step - loss: 1.4067 - accuracy: 0.6031 - val_loss: 1.4018 - val_accuracy: 0.6208\n",
            "Epoch 57/60\n",
            "359/359 [==============================] - 26s 72ms/step - loss: 1.3976 - accuracy: 0.6037 - val_loss: 1.3659 - val_accuracy: 0.6068\n",
            "Epoch 58/60\n",
            "359/359 [==============================] - 26s 71ms/step - loss: 1.3844 - accuracy: 0.6068 - val_loss: 1.3620 - val_accuracy: 0.6173\n",
            "Epoch 59/60\n",
            "359/359 [==============================] - 26s 72ms/step - loss: 1.4185 - accuracy: 0.6018 - val_loss: 1.4026 - val_accuracy: 0.6131\n",
            "Epoch 60/60\n",
            "359/359 [==============================] - 26s 73ms/step - loss: 1.4165 - accuracy: 0.6073 - val_loss: 1.4619 - val_accuracy: 0.6041\n"
          ]
        }
      ]
    },
    {
      "cell_type": "markdown",
      "source": [
        "#Plot Training History:\n",
        "\n",
        "After training, the code plots two graphs showing the training and validation accuracy and loss over epochs. These graphs help visualize how well the model is learning."
      ],
      "metadata": {
        "id": "Bk8yo51LTwY9"
      }
    },
    {
      "cell_type": "code",
      "source": [
        "# Plot training history\n",
        "plt.figure(figsize=(12, 4))\n",
        "plt.subplot(1, 2, 1)\n",
        "plt.plot(history.history['accuracy'], label='Train')\n",
        "plt.plot(history.history['val_accuracy'], label='Validation')\n",
        "plt.title('Training Accuracy vs Validation Accuracy')\n",
        "plt.ylabel('Accuracy')\n",
        "plt.xlabel('Epoch')\n",
        "plt.legend(loc='upper left')\n",
        "\n",
        "plt.subplot(1, 2, 2)\n",
        "plt.plot(history.history['loss'], label='Train')\n",
        "plt.plot(history.history['val_loss'], label='Validation')\n",
        "plt.title('Training Loss vs Validation Loss')\n",
        "plt.ylabel('Loss')\n",
        "plt.xlabel('Epoch')\n",
        "plt.legend(loc='upper left')\n",
        "\n",
        "plt.show()"
      ],
      "metadata": {
        "colab": {
          "base_uri": "https://localhost:8080/",
          "height": 410
        },
        "id": "rLH78Yw4XN-k",
        "outputId": "ecf0812c-76eb-4ea2-9a38-43e2366ac833"
      },
      "execution_count": 14,
      "outputs": [
        {
          "output_type": "display_data",
          "data": {
            "text/plain": [
              "<Figure size 1200x400 with 2 Axes>"
            ],
            "image/png": "[encoded data removed]"
          },
          "metadata": {}
        }
      ]
    },
    {
      "cell_type": "markdown",
      "source": [
        "#Load and Predict on a Sample Image:\n",
        "\n",
        "The code loads a sample image from the test directory, converts it to grayscale, and resizes it to 48x48 pixels.\n",
        "It then preprocesses the image for model prediction.\n",
        "The model predicts the emotion in the image and prints the corresponding emotion label."
      ],
      "metadata": {
        "id": "XBJGdIIfTwXF"
      }
    },
    {
      "cell_type": "code",
      "source": [
        "# Load and Predict on a Sample Image\n",
        "from PIL import Image\n",
        "\n",
        "img = Image.open(\"/content/test/fearful/im0.png\").convert(\"L\")\n",
        "img = img.resize((48, 48))\n",
        "img_array = np.array(img)\n",
        "\n",
        "plt.imshow(img_array, cmap='gray')\n",
        "plt.show()\n",
        "\n",
        "print(img_array.shape)\n",
        "\n",
        "label_dict = {0: 'Angry', 1: 'Disgust', 2: 'Fear', 3: 'Happy', 4: 'Neutral', 5: 'Sad', 6: 'Surprise'}\n",
        "\n",
        "img = np.expand_dims(img, axis=0)\n",
        "img = img.reshape(1, 48, 48, 1)\n",
        "result = model.predict(img)\n",
        "result = list(result[0])\n",
        "\n",
        "img_index = result.index(max(result))\n",
        "print(label_dict[img_index])"
      ],
      "metadata": {
        "colab": {
          "base_uri": "https://localhost:8080/",
          "height": 483
        },
        "id": "DWK9abj8XQSj",
        "outputId": "15d4fc5a-b4d7-43a7-fca5-a7b8c1e35ae1"
      },
      "execution_count": 45,
      "outputs": [
        {
          "output_type": "display_data",
          "data": {
            "text/plain": [
              "<Figure size 640x480 with 1 Axes>"
            ],
            "image/png": "[encoded data removed]"
          },
          "metadata": {}
        },
        {
          "output_type": "stream",
          "name": "stdout",
          "text": [
            "(48, 48)\n",
            "1/1 [==============================] - 0s 23ms/step\n",
            "Fear\n"
          ]
        }
      ]
    },
    {
      "cell_type": "markdown",
      "source": [
        "#Save Model Weights:\n",
        "\n",
        "Finally, the model weights are saved to a file named **'final_project_emotion_detection.h5'**. These weights can be loaded later to make predictions without retraining the model."
      ],
      "metadata": {
        "id": "Xc2oyQtpTwUa"
      }
    },
    {
      "cell_type": "code",
      "source": [
        "# Save model weights\n",
        "model.save_weights('final_project_emotion_detection.h5')"
      ],
      "metadata": {
        "id": "IMuIYhpQXR2r"
      },
      "execution_count": 46,
      "outputs": []
    },
    {
      "cell_type": "markdown",
      "source": [
        "In summary, this code downloads a dataset, performs data augmentation, builds a deep learning model for emotion detection, trains the model, evaluates its performance, and saves the trained model for future use."
      ],
      "metadata": {
        "id": "ZO8GSwu9TwS9"
      }
    },
    {
      "cell_type": "markdown",
      "source": [
        "**Note** : You can access this code from here https://colab.research.google.com/drive/1TE1Du_BzkW9ZveY7fGNxQDiKNiiB75R-?usp=sharing"
      ],
      "metadata": {
        "id": "j37fDL1lYSA2"
      }
    }
  ]
}